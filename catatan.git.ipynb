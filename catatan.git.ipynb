{
 "cells": [
  {
   "cell_type": "markdown",
   "id": "f6e61ab4",
   "metadata": {},
   "source": [
    "<h1>How To Clone and Accessing Repository </h1> "
   ]
  },
  {
   "cell_type": "markdown",
   "id": "d5784a0e",
   "metadata": {},
   "source": [
    "1. Harus ada repository githubnya dulu. lalu copy URL SSH.\n",
    "2. Buka terminal (cmd, power shell, bash) dengan working directory di folder yang mana kita mau menyimpan repository tersebut.\n",
    "3. Dalam terminal gunakan command `git clone <url ssh>`\n",
    "4. Repository akan terbentuk di folder tersebut"
   ]
  },
  {
   "cell_type": "markdown",
   "id": "0f8ce363",
   "metadata": {},
   "source": [
    "<h2>Selanjutnya buka working directory di repositori-nya atau langusng buka vscode di repository<h2>"
   ]
  },
  {
   "cell_type": "markdown",
   "id": "e3b73654",
   "metadata": {},
   "source": [
    "<h2>Track and Commit file(s) Changes<h2>"
   ]
  },
  {
   "cell_type": "markdown",
   "id": "a23caa0a",
   "metadata": {},
   "source": [
    "Kalau kerja dengan orang lain, jangan lupa `git pull` di awal"
   ]
  },
  {
   "cell_type": "markdown",
   "id": "30b1e7e7",
   "metadata": {},
   "source": [
    "1. Cek status file dalam repository dengan `git status`\n",
    "2. Untuk track perunahan pada file(s) gunakan `git add <nama files>` untuk 1 file saja atau `git add .` untuk semua file\n",
    "3. kalau cek  `git status` lagi file akan berubah jadi trackd dan siap dilakukan commit.\n",
    "4. Untuk menyimpan perubahan lakukan dengan `git commit -m \"message commit\"`\n",
    "(kalau gajadi commit bisa `git reset --mixed` atau `git revert`)\n",
    "5. Untuk Menyimpan perubahan ke repository remote lakukan `git push`"
   ]
  }
 ],
 "metadata": {
  "kernelspec": {
   "display_name": "base",
   "language": "python",
   "name": "python3"
  },
  "language_info": {
   "name": "python",
   "version": "3.13.2"
  }
 },
 "nbformat": 4,
 "nbformat_minor": 5
}
